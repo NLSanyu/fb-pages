{
 "cells": [
  {
   "cell_type": "code",
   "execution_count": 2,
   "metadata": {},
   "outputs": [],
   "source": [
    "from decouple import config\n",
    "import facebook"
   ]
  },
  {
   "cell_type": "code",
   "execution_count": 3,
   "metadata": {},
   "outputs": [],
   "source": [
    "page_token = config('PAGE_ACCESS_TOKEN')\n",
    "page_id = config('PAGE_ID')"
   ]
  },
  {
   "cell_type": "code",
   "execution_count": 12,
   "metadata": {},
   "outputs": [
    {
     "name": "stdout",
     "output_type": "stream",
     "text": [
      "<facebook.GraphAPI object at 0x7fd425f94ba8>\n",
      "{'id': '105141914536236'}\n"
     ]
    },
    {
     "data": {
      "text/plain": [
       "{'posts': {'data': [{'created_time': '2020-05-13T08:17:35+0000',\n",
       "    'message': 'Lockdown can either be boring and sad, or it can be your chance to rest, have fun, and do all the stuff you previously had no time for. Any ideas for lockdown? Share some in the comments.',\n",
       "    'id': '105141914536236_107376184312809'},\n",
       "   {'created_time': '2020-05-13T08:14:16+0000',\n",
       "    'message': 'These COVID-19 times will teach us the true power of saving. Yes, we have all heard that investing is better than saving, but this crisis has showed us that it is important to have some saved cash to fall back to. #Covid19 #Survival #Saving',\n",
       "    'id': '105141914536236_107373617646399'},\n",
       "   {'created_time': '2020-05-11T06:37:46+0000',\n",
       "    'message': 'Welcome to Sanyu Means Joy!',\n",
       "    'id': '105141914536236_105150181202076'}],\n",
       "  'paging': {'cursors': {'before': 'QVFIUjU4Sk5ETkt5QTQ5MDZArR1VYTy1EenFJTVlMTDdfWDFrSWMtcGRvOTVYaWdIRGNSYk9lYTFXMjlpQUhUbnN4V0Ntc1dZAWXZAOSXhZAalVCV1BKWEVBejNhUkpSS25WWFRtdXZAaZAHFtRzRJYjVSNmk1ZAzFSVnY1elpjMmJGQk94UVdq',\n",
       "    'after': 'QVFIUmJtREg5UXdzbUo1RUduT1pmNWotM1ZAabEFkel9UbVdKWUhYV005RURQMU4yS1l6NmZAybFhfbFF5M3NxRHEyNkViZAE9xeVVTU3BIZA3dlT0tLUWdRek41VmZACQ2RTaDdTWGQwTHZANSnlKVXRxdC1FSUlfd2RucjdYUkwzeUNaRHVE'}}},\n",
       " 'id': '105141914536236'}"
      ]
     },
     "execution_count": 12,
     "metadata": {},
     "output_type": "execute_result"
    }
   ],
   "source": [
    "graph = facebook.GraphAPI(access_token=page_token, version=\"3.1\")\n",
    "print(graph)\n",
    "page_info = graph.get_object(id=page_id, fields='about, website')\n",
    "print(page_info)\n",
    "posts = graph.get_object(id=page_id, fields='posts.limit(100)')\n",
    "posts"
   ]
  },
  {
   "cell_type": "code",
   "execution_count": null,
   "metadata": {},
   "outputs": [],
   "source": []
  },
  {
   "cell_type": "code",
   "execution_count": null,
   "metadata": {},
   "outputs": [],
   "source": []
  }
 ],
 "metadata": {
  "kernelspec": {
   "display_name": "Python 3",
   "language": "python",
   "name": "python3"
  },
  "language_info": {
   "codemirror_mode": {
    "name": "ipython",
    "version": 3
   },
   "file_extension": ".py",
   "mimetype": "text/x-python",
   "name": "python",
   "nbconvert_exporter": "python",
   "pygments_lexer": "ipython3",
   "version": "3.6.10"
  }
 },
 "nbformat": 4,
 "nbformat_minor": 4
}
