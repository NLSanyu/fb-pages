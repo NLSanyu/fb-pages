{
 "cells": [
  {
   "cell_type": "code",
   "execution_count": 2,
   "metadata": {},
   "outputs": [],
   "source": [
    "from decouple import config\n",
    "import facebook"
   ]
  },
  {
   "cell_type": "code",
   "execution_count": 3,
   "metadata": {},
   "outputs": [],
   "source": [
    "page_token = config('PAGE_ACCESS_TOKEN')\n",
    "page_id = config('PAGE_ID')"
   ]
  },
  {
   "cell_type": "code",
   "execution_count": 4,
   "metadata": {},
   "outputs": [
    {
     "name": "stdout",
     "output_type": "stream",
     "text": [
      "<facebook.GraphAPI object at 0x7fd43403bbe0>\n",
      "{'id': '105141914536236'}\n",
      "{'posts': {'data': [{'created_time': '2020-05-11T06:55:50+0000', 'message': 'Test Post 2', 'id': '105141914536236_105156677868093'}, {'created_time': '2020-05-11T06:55:19+0000', 'message': 'Test post 1', 'id': '105141914536236_105156561201438'}, {'created_time': '2020-05-11T06:37:46+0000', 'message': 'Welcome to Sanyu Means Joy!', 'id': '105141914536236_105150181202076'}], 'paging': {'cursors': {'before': 'QVFIUnlXLWloR1pNb2syTkN2RXRsRURvLXdNNGN2bTRWN3hZAcHZAyUC10eG0wREtmLWZAfVW5SaUw4YTJhMld3c1FOdndhdUNsa2NHWFVOQy1MZAFZAhdmV0MUdIQXJqRG85bHZAfTE5oT3AtZAG9NYldoVm1oREZApaVQ2SFhtdTYwd3c0MGdz', 'after': 'QVFIUmJtREg5UXdzbUo1RUduT1pmNWotM1ZAabEFkel9UbVdKWUhYV005RURQMU4yS1l6NmZAybFhfbFF5M3NxRHEyNkViZAE9xeVVTU3BIZA3dlT0tLUWdRek41VmZACQ2RTaDdTWGQwTHZANSnlKVXRxdC1FSUlfd2RucjdYUkwzeUNaRHVE'}}}, 'id': '105141914536236'}\n"
     ]
    }
   ],
   "source": [
    "graph = facebook.GraphAPI(access_token=page_token, version=\"3.1\")\n",
    "print(graph)\n",
    "page_info = graph.get_object(id=page_id, fields='about, website')\n",
    "print(page_info)\n",
    "posts = graph.get_object(id=page_id,\n",
    "                        fields='posts.limit(100)')\n",
    "print(posts)"
   ]
  },
  {
   "cell_type": "code",
   "execution_count": null,
   "metadata": {},
   "outputs": [],
   "source": []
  }
 ],
 "metadata": {
  "kernelspec": {
   "display_name": "Python 3",
   "language": "python",
   "name": "python3"
  },
  "language_info": {
   "codemirror_mode": {
    "name": "ipython",
    "version": 3
   },
   "file_extension": ".py",
   "mimetype": "text/x-python",
   "name": "python",
   "nbconvert_exporter": "python",
   "pygments_lexer": "ipython3",
   "version": "3.6.10"
  }
 },
 "nbformat": 4,
 "nbformat_minor": 4
}
