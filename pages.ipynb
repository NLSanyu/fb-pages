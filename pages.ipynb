{
 "cells": [
  {
   "cell_type": "markdown",
   "metadata": {},
   "source": [
    "### Fetching Facebook page data, posts and post engagement"
   ]
  },
  {
   "cell_type": "markdown",
   "metadata": {},
   "source": [
    "**Importing `facebook-sdk` (python package for Facebook) and `python-decouple` for environment variables**"
   ]
  },
  {
   "cell_type": "code",
   "execution_count": 1,
   "metadata": {},
   "outputs": [],
   "source": [
    "import facebook\n",
    "from decouple import config"
   ]
  },
  {
   "cell_type": "markdown",
   "metadata": {},
   "source": [
    "**Setting up `pymongo`, a package used to connect with `MongoDB`, where the posts will be stored**"
   ]
  },
  {
   "cell_type": "code",
   "execution_count": 2,
   "metadata": {},
   "outputs": [],
   "source": [
    "import pymongo\n",
    "db_client = pymongo.MongoClient()\n",
    "pages_db = db_client[\"fbpages\"]\n",
    "doc = pages_db[\"posts\"]"
   ]
  },
  {
   "cell_type": "markdown",
   "metadata": {},
   "source": [
    "**Importing the environment variables from an `env` file**"
   ]
  },
  {
   "cell_type": "code",
   "execution_count": 3,
   "metadata": {},
   "outputs": [],
   "source": [
    "page_token = config('PAGE_ACCESS_TOKEN')\n",
    "page_id = config('PAGE_ID')"
   ]
  },
  {
   "cell_type": "markdown",
   "metadata": {},
   "source": [
    "**Fetching page info from Facebook**"
   ]
  },
  {
   "cell_type": "code",
   "execution_count": 4,
   "metadata": {},
   "outputs": [
    {
     "data": {
      "text/plain": [
       "{'about': 'Writing my way through life', 'id': '105141914536236'}"
      ]
     },
     "execution_count": 4,
     "metadata": {},
     "output_type": "execute_result"
    }
   ],
   "source": [
    "graph = facebook.GraphAPI(access_token=page_token, version=\"3.1\")\n",
    "page_info = graph.get_object(id=page_id, fields='about, website')\n",
    "page_info"
   ]
  },
  {
   "cell_type": "markdown",
   "metadata": {},
   "source": [
    "**Fetching posts and connected data for the given page**"
   ]
  },
  {
   "cell_type": "code",
   "execution_count": 5,
   "metadata": {},
   "outputs": [
    {
     "data": {
      "text/plain": [
       "{'posts': {'data': [{'created_time': '2020-05-13T08:17:35+0000',\n",
       "    'message': 'Lockdown can either be boring and sad, or it can be your chance to rest, have fun, and do all the stuff you previously had no time for. Any ideas for lockdown? Share some in the comments.',\n",
       "    'id': '105141914536236_107376184312809'},\n",
       "   {'created_time': '2020-05-13T08:14:16+0000',\n",
       "    'message': 'These COVID-19 times will teach us the true power of saving. Yes, we have all heard that investing is better than saving, but this crisis has showed us that it is important to have some saved cash to fall back to. #Covid19 #Survival #Saving',\n",
       "    'id': '105141914536236_107373617646399'},\n",
       "   {'created_time': '2020-05-11T06:37:46+0000',\n",
       "    'message': 'Welcome to Sanyu Means Joy!',\n",
       "    'id': '105141914536236_105150181202076'}],\n",
       "  'paging': {'cursors': {'before': 'QVFIUjU4Sk5ETkt5QTQ5MDZArR1VYTy1EenFJTVlMTDdfWDFrSWMtcGRvOTVYaWdIRGNSYk9lYTFXMjlpQUhUbnN4V0Ntc1dZAWXZAOSXhZAalVCV1BKWEVBejNhUkpSS25WWFRtdXZAaZAHFtRzRJYjVSNmk1ZAzFSVnY1elpjMmJGQk94UVdq',\n",
       "    'after': 'QVFIUmJtREg5UXdzbUo1RUduT1pmNWotM1ZAabEFkel9UbVdKWUhYV005RURQMU4yS1l6NmZAybFhfbFF5M3NxRHEyNkViZAE9xeVVTU3BIZA3dlT0tLUWdRek41VmZACQ2RTaDdTWGQwTHZANSnlKVXRxdC1FSUlfd2RucjdYUkwzeUNaRHVE'}}},\n",
       " 'id': '105141914536236'}"
      ]
     },
     "execution_count": 5,
     "metadata": {},
     "output_type": "execute_result"
    }
   ],
   "source": [
    "post_data = graph.get_object(id=page_id, fields='posts.limit(100)')\n",
    "post_data"
   ]
  },
  {
   "cell_type": "code",
   "execution_count": 6,
   "metadata": {},
   "outputs": [
    {
     "name": "stdout",
     "output_type": "stream",
     "text": [
      "{'created_time': '2020-05-13T08:17:35+0000', 'message': 'Lockdown can either be boring and sad, or it can be your chance to rest, have fun, and do all the stuff you previously had no time for. Any ideas for lockdown? Share some in the comments.', 'id': '105141914536236_107376184312809'}\n",
      "\n",
      "{'data': [{'created_time': '2020-05-13T09:30:26+0000', 'message': 'No ideas, however long the list is can occupy you for all the lockdown', 'id': '107376184312809_107416554308772'}, {'created_time': '2020-05-13T09:30:52+0000', 'message': 'You have to let life take its course 😂', 'id': '107376184312809_107416700975424'}, {'created_time': '2020-05-13T09:35:06+0000', 'from': {'name': 'Sanyu Means Joy', 'id': '105141914536236'}, 'message': \"Hahaha......you're right\", 'id': '107376184312809_107419607641800'}], 'paging': {'cursors': {'before': 'WTI5dGJXVnVkRjlqZAFhKemIzSTZANVEEzTkRFMk5UVTBNekE0TnpjeU9qRTFPRGt6TmpJeU1qYz0ZD', 'after': 'WTI5dGJXVnVkRjlqZAFhKemIzSTZANVEEzTkRFNU5qQTNOalF4T0RBd09qRTFPRGt6TmpJMU1EWT0ZD'}}, 'summary': {'total_count': 3}}\n",
      "\n",
      "{'created_time': '2020-05-13T08:14:16+0000', 'message': 'These COVID-19 times will teach us the true power of saving. Yes, we have all heard that investing is better than saving, but this crisis has showed us that it is important to have some saved cash to fall back to. #Covid19 #Survival #Saving', 'id': '105141914536236_107373617646399'}\n",
      "\n",
      "{'data': [{'created_time': '2020-05-13T09:33:08+0000', 'message': 'I have never done big saving pre COVID. It only teaches me how much I could save instead by staying at home and having a simple life in quarantine.', 'id': '107373617646399_107418050975289'}, {'created_time': '2020-05-13T09:34:38+0000', 'from': {'name': 'Sanyu Means Joy', 'id': '105141914536236'}, 'message': \"Very true! That's a great lesson to learn from this time.\", 'id': '107373617646399_107419337641827'}, {'created_time': '2020-05-13T09:36:07+0000', 'message': 'Sanyu Means Joy you are champ here though', 'id': '107373617646399_107419920975102'}], 'paging': {'cursors': {'before': 'WTI5dGJXVnVkRjlqZAFhKemIzSTZANVEEzTkRFNE1EVXdPVGMxTWpnNU9qRTFPRGt6TmpJek9EZAz0ZD', 'after': 'WTI5dGJXVnVkRjlqZAFhKemIzSTZANVEEzTkRFNU9USXdPVGMxTVRBeU9qRTFPRGt6TmpJMU5qYz0ZD'}}, 'summary': {'total_count': 3}}\n",
      "\n",
      "{'created_time': '2020-05-11T06:37:46+0000', 'message': 'Welcome to Sanyu Means Joy!', 'id': '105141914536236_105150181202076'}\n",
      "\n",
      "{'data': [{'created_time': '2020-05-13T08:55:52+0000', 'message': 'happy to be here ☺', 'id': '105150181202076_107396364310791'}, {'created_time': '2020-05-13T09:23:31+0000', 'message': 'You are welcome too ', 'id': '105150181202076_107413867642374'}, {'created_time': '2020-05-13T09:33:19+0000', 'message': 'Great to have you here', 'id': '105150181202076_107418144308613'}, {'created_time': '2020-05-13T09:49:31+0000', 'message': '😀😀', 'id': '105150181202076_107428490974245'}], 'paging': {'cursors': {'before': 'WTI5dGJXVnVkRjlqZAFhKemIzSTZANVEEzTXprMk16WTBNekV3TnpreE9qRTFPRGt6TmpBeE5UST0ZD', 'after': 'WTI5dGJXVnVkRjlqZAFhKemIzSTZANVEEzTkRJNE5Ea3dPVGMwTWpRMU9qRTFPRGt6TmpNek56RT0ZD'}}, 'summary': {'total_count': 4}}\n",
      "\n"
     ]
    }
   ],
   "source": [
    "posts = post_data['posts']['data']\n",
    "for post in posts:\n",
    "    print(f'{post}\\n')\n",
    "    post_comments = graph.get_connections(id=post['id'],           \n",
    "                                        connection_name='comments',\n",
    "                                        include_hidden=True,       \n",
    "                                        filter='stream',           \n",
    "                                        summary='total_count')\n",
    "    print(f'{post_comments}\\n')\n"
   ]
  },
  {
   "cell_type": "markdown",
   "metadata": {},
   "source": [
    "**Inserting the posts into a `MongoDB` database**"
   ]
  },
  {
   "cell_type": "code",
   "execution_count": null,
   "metadata": {},
   "outputs": [],
   "source": [
    "doc.insert_many(posts)"
   ]
  },
  {
   "cell_type": "code",
   "execution_count": null,
   "metadata": {},
   "outputs": [],
   "source": []
  },
  {
   "cell_type": "code",
   "execution_count": null,
   "metadata": {},
   "outputs": [],
   "source": []
  }
 ],
 "metadata": {
  "kernelspec": {
   "display_name": "Python 3",
   "language": "python",
   "name": "python3"
  },
  "language_info": {
   "codemirror_mode": {
    "name": "ipython",
    "version": 3
   },
   "file_extension": ".py",
   "mimetype": "text/x-python",
   "name": "python",
   "nbconvert_exporter": "python",
   "pygments_lexer": "ipython3",
   "version": "3.6.10"
  }
 },
 "nbformat": 4,
 "nbformat_minor": 4
}
